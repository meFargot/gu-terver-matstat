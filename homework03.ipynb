{
 "cells": [
  {
   "cell_type": "code",
   "execution_count": 45,
   "metadata": {},
   "outputs": [],
   "source": [
    "import numpy as np\n",
    "import pandas as pd\n",
    "from matplotlib import pyplot as plt"
   ]
  },
  {
   "cell_type": "markdown",
   "metadata": {},
   "source": [
    "### Задача 1\n",
    "\n",
    "Даны значения зарплат из выборки выпускников: \n",
    "\n",
    "100, 80, 75, 77, 89, 33, 45, 25, 65, 17, 30, 24, 57, 55, 70, 75, 65, 84, 90, 150\n",
    "\n",
    "Без использования статистических функций вроде mean, std, var, посчитать среднее арифметическое, среднее квадратичное отклонение, смещенную и несмещенную оценки дисперсий для данной выборки.\n",
    "\n",
    "Можно затем посчитать те же значения с использованием статистических функций, чтобы проверить себя."
   ]
  },
  {
   "cell_type": "markdown",
   "metadata": {},
   "source": [
    "#### Решение"
   ]
  },
  {
   "cell_type": "markdown",
   "metadata": {},
   "source": [
    "Формулы для расчета:  \n",
    "Среднее арифметическое $M(X)=\\frac{1}{n}\\sum\\limits_{i=1}^nx_i$  \n",
    "\n",
    "Среднее квадратичное отклонение  $\\sigma=\\sqrt{\\frac{\\sum\\limits_{i=1}^n(x_i-\\overline{x})^2}{n}}$\n",
    "\n",
    "Смещенная оценка дисперсии  $\\sigma^2={\\frac{\\sum\\limits_{i=1}^n(x_i-\\overline{x})^2}{n}}$\n",
    "\n",
    "Несмещенная оценка дисперсии  $\\sigma^2_{несмещ.}={\\frac{\\sum\\limits_{i=1}^n(x_i-\\overline{x})^2}{n-1}}$"
   ]
  },
  {
   "cell_type": "code",
   "execution_count": 3,
   "metadata": {},
   "outputs": [],
   "source": [
    "data = np.array([100, 80, 75, 77, 89, 33, 45, 25, 65, 17, 30, 24, 57, 55, 70, 75, 65, 84, 90, 150])"
   ]
  },
  {
   "cell_type": "code",
   "execution_count": 48,
   "metadata": {},
   "outputs": [],
   "source": [
    "M = data.sum() / len(data)\n",
    "\n",
    "sigma = np.sqrt(((data - M)**2).sum() / (len(data)))\n",
    "\n",
    "sigma_2 = ((data - M)**2).sum() / (len(data))\n",
    "\n",
    "sigma_2_nesm = ((data - M)**2).sum() / (len(data) - 1)"
   ]
  },
  {
   "cell_type": "markdown",
   "metadata": {},
   "source": [
    "#### Ответ"
   ]
  },
  {
   "cell_type": "code",
   "execution_count": 49,
   "metadata": {},
   "outputs": [
    {
     "data": {
      "text/plain": [
       "(65.3, 30.823854398825596, 950.11, 1000.1157894736842)"
      ]
     },
     "execution_count": 49,
     "metadata": {},
     "output_type": "execute_result"
    }
   ],
   "source": [
    "M, sigma, sigma_2, sigma_2_nesm"
   ]
  },
  {
   "cell_type": "code",
   "execution_count": 50,
   "metadata": {},
   "outputs": [
    {
     "data": {
      "text/plain": [
       "(65.3, 31.624607341019814, 950.11, 1000.1157894736842)"
      ]
     },
     "execution_count": 50,
     "metadata": {},
     "output_type": "execute_result"
    }
   ],
   "source": [
    "data.mean(), data.std(), data.var(ddof=0), data.var(ddof=1)"
   ]
  },
  {
   "cell_type": "markdown",
   "metadata": {},
   "source": [
    "### Задача 2\n",
    "\n",
    "Для выборки из задачи 1 найти первый и третий квартили, интерквартильное расстояние. Найти выборсы в выборке, используя для этого \"усы\" из boxplot. В этой задаче можно использовать статистические функции."
   ]
  },
  {
   "cell_type": "markdown",
   "metadata": {},
   "source": [
    "#### Решение"
   ]
  },
  {
   "cell_type": "code",
   "execution_count": 22,
   "metadata": {},
   "outputs": [],
   "source": [
    "data = pd.Series(data)"
   ]
  },
  {
   "cell_type": "code",
   "execution_count": 41,
   "metadata": {},
   "outputs": [],
   "source": [
    "q_1 = data.quantile(0.25)"
   ]
  },
  {
   "cell_type": "code",
   "execution_count": 24,
   "metadata": {},
   "outputs": [],
   "source": [
    "q_3 = data.quantile(0.75)"
   ]
  },
  {
   "cell_type": "code",
   "execution_count": 26,
   "metadata": {},
   "outputs": [],
   "source": [
    "iqr = q_3 - q_1"
   ]
  },
  {
   "cell_type": "code",
   "execution_count": 29,
   "metadata": {},
   "outputs": [],
   "source": [
    "boxplot_range = (q_1 - 1.5 * iqr, q_3 + 1.5 * iqr)"
   ]
  },
  {
   "cell_type": "code",
   "execution_count": 40,
   "metadata": {},
   "outputs": [],
   "source": [
    "outliers = data[(data < boxplot_range[0]) | (data > boxplot_range[1])]"
   ]
  },
  {
   "cell_type": "markdown",
   "metadata": {},
   "source": [
    "#### Ответ"
   ]
  },
  {
   "cell_type": "code",
   "execution_count": 51,
   "metadata": {},
   "outputs": [
    {
     "data": {
      "text/plain": [
       "(42.0, 81.0, 39.0, array([150]))"
      ]
     },
     "execution_count": 51,
     "metadata": {},
     "output_type": "execute_result"
    }
   ],
   "source": [
    "q_1, q_3, iqr, outliers.values"
   ]
  },
  {
   "cell_type": "code",
   "execution_count": 52,
   "metadata": {},
   "outputs": [
    {
     "data": {
      "image/png": "[encoded data removed]",
      "text/plain": [
       "<Figure size 432x288 with 1 Axes>"
      ]
     },
     "metadata": {
      "needs_background": "light"
     },
     "output_type": "display_data"
    }
   ],
   "source": [
    "plt.boxplot(data);"
   ]
  },
  {
   "cell_type": "markdown",
   "metadata": {},
   "source": [
    "### Задача 3\n",
    "\n",
    "В университет на факультеты A и B поступило равное количество студентов, а на факультет C студентов поступило столько же, сколько на A и B вместе. Вероятность того, что студент факультета A сдаст первую сессию, равна 0.8. Для студента факультета B эта вероятность равна 0.7, а для студента факультета C - 0.9. Студент сдал первую сессию. Какова вероятность, что он учится: a) на факультете A? б) на факультете B? в) на факультете C?\n",
    "\n",
    "Замечание: да, эта задача не на тему описательных статистик, но тема важная, и её стоит иногда освежать в памяти."
   ]
  },
  {
   "cell_type": "markdown",
   "metadata": {},
   "source": [
    "#### Решение"
   ]
  },
  {
   "cell_type": "markdown",
   "metadata": {},
   "source": [
    "Пусть событие $A$ - студент учится на факультете А, событие $B$ - студент учится на факультете B, событие $C$ - студент учится на факультете С. Событие $S$ - студент сдал первую сессию. $n$ - количество студентов поступивших на факультет A.\n",
    "\n",
    "Тогда:\n",
    "\n",
    "$P(A)=\\frac{n}{n+n+2n}=\\frac{1}{4}=0.25$\n",
    "\n",
    "$P(B)=\\frac{n}{n+n+2n}=\\frac{1}{4}=0.25$\n",
    "\n",
    "$P(C)=\\frac{2n}{n+n+2n}=\\frac{1}{2}=0.5$\n",
    "\n",
    "$P(S|A)=0.8$\n",
    "\n",
    "$P(S|B)=0.7$\n",
    "\n",
    "$P(S|C)=0.9$\n",
    "\n",
    "Вероятность события $A$ при условии события $S$ распишем по формуле Байеса:\n",
    "\n",
    "$P(A|S)=\\frac{P(A)P(S|A)}{P(S)}$, где $P(S)$ распишем по формуле полной вероятности,\n",
    "\n",
    "$P(A|S)=\\frac{P(A)P(S|A)}{P(A)P(S|A)+P(B)P(S|B)+P(C)P(S|C)}$\n",
    "\n",
    "Аналогично для события $B$ при условии $S$, а так же для события $C$ при условии $S$:\n",
    "\n",
    "$P(B|S)=\\frac{P(B)P(S|B)}{P(A)P(S|A)+P(B)P(S|B)+P(C)P(S|C)}$\n",
    "\n",
    "$P(C|S)=\\frac{P(C)P(S|C)}{P(A)P(S|A)+P(B)P(S|B)+P(C)P(S|C)}$"
   ]
  },
  {
   "cell_type": "code",
   "execution_count": 53,
   "metadata": {},
   "outputs": [],
   "source": [
    "P_A = 0.25\n",
    "P_B = 0.25\n",
    "P_C = 0.5\n",
    "\n",
    "P_SA = 0.8\n",
    "P_SB = 0.7\n",
    "P_SC = 0.9\n",
    "\n",
    "P_S = P_A*P_SA + P_B*P_SB + P_C*P_SC\n",
    "\n",
    "P_AS = (P_A*P_SA) / P_S\n",
    "P_BS = (P_B*P_SB) / P_S\n",
    "P_CS = (P_C*P_SC) / P_S"
   ]
  },
  {
   "cell_type": "markdown",
   "metadata": {},
   "source": [
    "#### Ответ"
   ]
  },
  {
   "cell_type": "code",
   "execution_count": 57,
   "metadata": {},
   "outputs": [
    {
     "data": {
      "text/plain": [
       "(0.24242424242424246, 0.21212121212121213, 0.5454545454545455)"
      ]
     },
     "execution_count": 57,
     "metadata": {},
     "output_type": "execute_result"
    }
   ],
   "source": [
    "P_AS, P_BS, P_CS"
   ]
  }
 ],
 "metadata": {
  "kernelspec": {
   "display_name": "Python 3",
   "language": "python",
   "name": "python3"
  },
  "language_info": {
   "codemirror_mode": {
    "name": "ipython",
    "version": 3
   },
   "file_extension": ".py",
   "mimetype": "text/x-python",
   "name": "python",
   "nbconvert_exporter": "python",
   "pygments_lexer": "ipython3",
   "version": "3.7.1"
  }
 },
 "nbformat": 4,
 "nbformat_minor": 2
}
