{
 "cells": [
  {
   "cell_type": "markdown",
   "metadata": {},
   "source": [
    "# Курсовая работа\n",
    "*в рамках курса \"Теория вероятностей и математическая статистика\" (27 апреля 2019) на площадке geekbrains.ru*\n",
    "\n",
    "__Тема__: Предиктивная аналитика дохода от фильма в разрезе жанра.  \n",
    "__Автор__: Кабанов Сергей (me.fargot@ya.ru)\n",
    "\n",
    "Целью данной курсовой работы являюется применение на практике знаний полученных в рамках курса. В данной курсовой работе предпринимается попытка описать доходы фильмов исключительно по его жанру в разные года, а так же построить модель для оценки такого дохода в будущем.\n",
    "\n",
    "В качестве источника данных был взят dataset с kaggle \"TMDB 5000 Movie Dataset\": https://www.kaggle.com/tmdb/tmdb-movie-metadata \n",
    "\n",
    "Из данного датасета работа велась только с данными из файла ``tmdb_5000_movies.csv``\n",
    "\n",
    "План работы:\n",
    "\n",
    "1. Подготовить данные для решения поставленной задачи: выделить необходимые столбцы, очистить данные.\n",
    "2. Разбить данные по жанрам. Создать для каждого жанра свой отдельный набор данных, где параметром будет год, а целевым параметром будет отношение средней прибыли за фильмы (разница между бюджетом и сборами) к общей прибыли за год по всем жанрам.\n",
    "3. Построить соответствующие графики\n",
    "4. Построить модель линейной регрессии\n",
    "5. Сделать предсказание для каждого класса жанров на 2020 год."
   ]
  },
  {
   "cell_type": "markdown",
   "metadata": {},
   "source": [
    "#### Загрузка данных"
   ]
  },
  {
   "cell_type": "code",
   "execution_count": 1,
   "metadata": {},
   "outputs": [],
   "source": [
    "import pandas as pd\n",
    "\n",
    "DATA_FILE_NAME = 'tmdb_5000_movies.csv'\n",
    "\n",
    "orig_data = pd.read_csv(DATA_FILE_NAME, parse_dates=['release_date'])"
   ]
  },
  {
   "cell_type": "markdown",
   "metadata": {},
   "source": [
    "#### 1. Подготовка данных"
   ]
  },
  {
   "cell_type": "code",
   "execution_count": 2,
   "metadata": {},
   "outputs": [
    {
     "name": "stdout",
     "output_type": "stream",
     "text": [
      "<class 'pandas.core.frame.DataFrame'>\n",
      "RangeIndex: 4803 entries, 0 to 4802\n",
      "Data columns (total 20 columns):\n",
      "budget                  4803 non-null int64\n",
      "genres                  4803 non-null object\n",
      "homepage                1712 non-null object\n",
      "id                      4803 non-null int64\n",
      "keywords                4803 non-null object\n",
      "original_language       4803 non-null object\n",
      "original_title          4803 non-null object\n",
      "overview                4800 non-null object\n",
      "popularity              4803 non-null float64\n",
      "production_companies    4803 non-null object\n",
      "production_countries    4803 non-null object\n",
      "release_date            4802 non-null datetime64[ns]\n",
      "revenue                 4803 non-null int64\n",
      "runtime                 4801 non-null float64\n",
      "spoken_languages        4803 non-null object\n",
      "status                  4803 non-null object\n",
      "tagline                 3959 non-null object\n",
      "title                   4803 non-null object\n",
      "vote_average            4803 non-null float64\n",
      "vote_count              4803 non-null int64\n",
      "dtypes: datetime64[ns](1), float64(3), int64(4), object(12)\n",
      "memory usage: 750.5+ KB\n"
     ]
    }
   ],
   "source": [
    "orig_data.info()"
   ]
  },
  {
   "cell_type": "markdown",
   "metadata": {},
   "source": [
    "Из всего списка столбцов нам необходимы только budget, genres, release_date, revenue. Так же оставим такие поля как id и title, если потребуются дополнительные данные для какого-то конкретного фильма."
   ]
  },
  {
   "cell_type": "code",
   "execution_count": 3,
   "metadata": {},
   "outputs": [],
   "source": [
    "columns = ['id', 'title', 'release_date', 'genres', 'budget',  'revenue']\n",
    "\n",
    "data = orig_data[columns]"
   ]
  },
  {
   "cell_type": "markdown",
   "metadata": {},
   "source": [
    "Одного значения в release_date не хватает. Исправляем ситуацию."
   ]
  },
  {
   "cell_type": "code",
   "execution_count": 4,
   "metadata": {},
   "outputs": [
    {
     "name": "stdout",
     "output_type": "stream",
     "text": [
      "<class 'pandas.core.frame.DataFrame'>\n",
      "Int64Index: 4802 entries, 0 to 4802\n",
      "Data columns (total 6 columns):\n",
      "id              4802 non-null int64\n",
      "title           4802 non-null object\n",
      "release_date    4802 non-null datetime64[ns]\n",
      "genres          4802 non-null object\n",
      "budget          4802 non-null int64\n",
      "revenue         4802 non-null int64\n",
      "dtypes: datetime64[ns](1), int64(3), object(2)\n",
      "memory usage: 262.6+ KB\n"
     ]
    }
   ],
   "source": [
    "data = data.dropna()\n",
    "\n",
    "data.info()"
   ]
  },
  {
   "cell_type": "code",
   "execution_count": 5,
   "metadata": {},
   "outputs": [
    {
     "data": {
      "text/html": [
       "<div>\n",
       "<style scoped>\n",
       "    .dataframe tbody tr th:only-of-type {\n",
       "        vertical-align: middle;\n",
       "    }\n",
       "\n",
       "    .dataframe tbody tr th {\n",
       "        vertical-align: top;\n",
       "    }\n",
       "\n",
       "    .dataframe thead th {\n",
       "        text-align: right;\n",
       "    }\n",
       "</style>\n",
       "<table border=\"1\" class=\"dataframe\">\n",
       "  <thead>\n",
       "    <tr style=\"text-align: right;\">\n",
       "      <th></th>\n",
       "      <th>id</th>\n",
       "      <th>budget</th>\n",
       "      <th>revenue</th>\n",
       "    </tr>\n",
       "  </thead>\n",
       "  <tbody>\n",
       "    <tr>\n",
       "      <th>count</th>\n",
       "      <td>4802.000000</td>\n",
       "      <td>4.802000e+03</td>\n",
       "      <td>4.802000e+03</td>\n",
       "    </tr>\n",
       "    <tr>\n",
       "      <th>mean</th>\n",
       "      <td>57098.234902</td>\n",
       "      <td>2.905109e+07</td>\n",
       "      <td>8.227777e+07</td>\n",
       "    </tr>\n",
       "    <tr>\n",
       "      <th>std</th>\n",
       "      <td>88581.302370</td>\n",
       "      <td>4.072447e+07</td>\n",
       "      <td>1.628697e+08</td>\n",
       "    </tr>\n",
       "    <tr>\n",
       "      <th>min</th>\n",
       "      <td>5.000000</td>\n",
       "      <td>0.000000e+00</td>\n",
       "      <td>0.000000e+00</td>\n",
       "    </tr>\n",
       "    <tr>\n",
       "      <th>25%</th>\n",
       "      <td>9013.750000</td>\n",
       "      <td>8.000000e+05</td>\n",
       "      <td>0.000000e+00</td>\n",
       "    </tr>\n",
       "    <tr>\n",
       "      <th>50%</th>\n",
       "      <td>14626.500000</td>\n",
       "      <td>1.500000e+07</td>\n",
       "      <td>1.917498e+07</td>\n",
       "    </tr>\n",
       "    <tr>\n",
       "      <th>75%</th>\n",
       "      <td>58589.750000</td>\n",
       "      <td>4.000000e+07</td>\n",
       "      <td>9.291920e+07</td>\n",
       "    </tr>\n",
       "    <tr>\n",
       "      <th>max</th>\n",
       "      <td>459488.000000</td>\n",
       "      <td>3.800000e+08</td>\n",
       "      <td>2.787965e+09</td>\n",
       "    </tr>\n",
       "  </tbody>\n",
       "</table>\n",
       "</div>"
      ],
      "text/plain": [
       "                  id        budget       revenue\n",
       "count    4802.000000  4.802000e+03  4.802000e+03\n",
       "mean    57098.234902  2.905109e+07  8.227777e+07\n",
       "std     88581.302370  4.072447e+07  1.628697e+08\n",
       "min         5.000000  0.000000e+00  0.000000e+00\n",
       "25%      9013.750000  8.000000e+05  0.000000e+00\n",
       "50%     14626.500000  1.500000e+07  1.917498e+07\n",
       "75%     58589.750000  4.000000e+07  9.291920e+07\n",
       "max    459488.000000  3.800000e+08  2.787965e+09"
      ]
     },
     "execution_count": 5,
     "metadata": {},
     "output_type": "execute_result"
    }
   ],
   "source": [
    "data.describe()"
   ]
  },
  {
   "cell_type": "markdown",
   "metadata": {},
   "source": [
    "Видим, что есть фильмы с нулевым бюджетом и доходом. Убираем такие фильмы."
   ]
  },
  {
   "cell_type": "code",
   "execution_count": 8,
   "metadata": {},
   "outputs": [],
   "source": [
    "data = data[(data['budget'] != 0) & (data['revenue'] != 0)]"
   ]
  },
  {
   "cell_type": "markdown",
   "metadata": {},
   "source": [
    "Сразу посчитаем поле profit как разницу между budget и revenue"
   ]
  },
  {
   "cell_type": "code",
   "execution_count": 9,
   "metadata": {},
   "outputs": [],
   "source": [
    "data['profit'] = data['revenue'] - data['budget']"
   ]
  },
  {
   "cell_type": "markdown",
   "metadata": {},
   "source": [
    "Выделим год в отдельный столбец"
   ]
  },
  {
   "cell_type": "code",
   "execution_count": 10,
   "metadata": {},
   "outputs": [],
   "source": [
    "data['year'] = data['release_date'].dt.year\n",
    "\n",
    "data = data.drop(columns='release_date')"
   ]
  },
  {
   "cell_type": "markdown",
   "metadata": {},
   "source": [
    "Посмотрим на столбце genres"
   ]
  },
  {
   "cell_type": "code",
   "execution_count": 11,
   "metadata": {},
   "outputs": [
    {
     "data": {
      "text/plain": [
       "0    [{\"id\": 28, \"name\": \"Action\"}, {\"id\": 12, \"nam...\n",
       "1    [{\"id\": 12, \"name\": \"Adventure\"}, {\"id\": 14, \"...\n",
       "2    [{\"id\": 28, \"name\": \"Action\"}, {\"id\": 12, \"nam...\n",
       "3    [{\"id\": 28, \"name\": \"Action\"}, {\"id\": 80, \"nam...\n",
       "4    [{\"id\": 28, \"name\": \"Action\"}, {\"id\": 12, \"nam...\n",
       "Name: genres, dtype: object"
      ]
     },
     "execution_count": 11,
     "metadata": {},
     "output_type": "execute_result"
    }
   ],
   "source": [
    "data['genres'].head()"
   ]
  },
  {
   "cell_type": "markdown",
   "metadata": {},
   "source": [
    "Видно, что данные представленны в виде json. Необходимо преобразовать эти данные в строку из жанров с разделителем."
   ]
  },
  {
   "cell_type": "code",
   "execution_count": 12,
   "metadata": {},
   "outputs": [],
   "source": [
    "import json"
   ]
  },
  {
   "cell_type": "code",
   "execution_count": 13,
   "metadata": {},
   "outputs": [],
   "source": [
    "def genre_string(genres, sep):\n",
    "    genre_json = json.loads(genres.replace(\"'\", '\"'))\n",
    "    genre_list = [el['name'] for el in genre_json]\n",
    "    genre_list.sort()\n",
    "    return sep.join(genre_list)"
   ]
  },
  {
   "cell_type": "code",
   "execution_count": 14,
   "metadata": {},
   "outputs": [],
   "source": [
    "data['genres'] = data['genres'].apply(genre_string, args=('|'))"
   ]
  },
  {
   "cell_type": "code",
   "execution_count": 15,
   "metadata": {},
   "outputs": [
    {
     "data": {
      "text/plain": [
       "0    Action|Adventure|Fantasy|Science Fiction\n",
       "1                    Action|Adventure|Fantasy\n",
       "2                      Action|Adventure|Crime\n",
       "3                 Action|Crime|Drama|Thriller\n",
       "4            Action|Adventure|Science Fiction\n",
       "Name: genres, dtype: object"
      ]
     },
     "execution_count": 15,
     "metadata": {},
     "output_type": "execute_result"
    }
   ],
   "source": [
    "data['genres'].head()"
   ]
  },
  {
   "cell_type": "markdown",
   "metadata": {},
   "source": [
    "Данные готовы для последующей работы"
   ]
  },
  {
   "cell_type": "code",
   "execution_count": 16,
   "metadata": {},
   "outputs": [
    {
     "data": {
      "text/html": [
       "<div>\n",
       "<style scoped>\n",
       "    .dataframe tbody tr th:only-of-type {\n",
       "        vertical-align: middle;\n",
       "    }\n",
       "\n",
       "    .dataframe tbody tr th {\n",
       "        vertical-align: top;\n",
       "    }\n",
       "\n",
       "    .dataframe thead th {\n",
       "        text-align: right;\n",
       "    }\n",
       "</style>\n",
       "<table border=\"1\" class=\"dataframe\">\n",
       "  <thead>\n",
       "    <tr style=\"text-align: right;\">\n",
       "      <th></th>\n",
       "      <th>id</th>\n",
       "      <th>title</th>\n",
       "      <th>genres</th>\n",
       "      <th>budget</th>\n",
       "      <th>revenue</th>\n",
       "      <th>profit</th>\n",
       "      <th>year</th>\n",
       "    </tr>\n",
       "  </thead>\n",
       "  <tbody>\n",
       "    <tr>\n",
       "      <th>0</th>\n",
       "      <td>19995</td>\n",
       "      <td>Avatar</td>\n",
       "      <td>Action|Adventure|Fantasy|Science Fiction</td>\n",
       "      <td>237000000</td>\n",
       "      <td>2787965087</td>\n",
       "      <td>2550965087</td>\n",
       "      <td>2009</td>\n",
       "    </tr>\n",
       "    <tr>\n",
       "      <th>1</th>\n",
       "      <td>285</td>\n",
       "      <td>Pirates of the Caribbean: At World's End</td>\n",
       "      <td>Action|Adventure|Fantasy</td>\n",
       "      <td>300000000</td>\n",
       "      <td>961000000</td>\n",
       "      <td>661000000</td>\n",
       "      <td>2007</td>\n",
       "    </tr>\n",
       "    <tr>\n",
       "      <th>2</th>\n",
       "      <td>206647</td>\n",
       "      <td>Spectre</td>\n",
       "      <td>Action|Adventure|Crime</td>\n",
       "      <td>245000000</td>\n",
       "      <td>880674609</td>\n",
       "      <td>635674609</td>\n",
       "      <td>2015</td>\n",
       "    </tr>\n",
       "    <tr>\n",
       "      <th>3</th>\n",
       "      <td>49026</td>\n",
       "      <td>The Dark Knight Rises</td>\n",
       "      <td>Action|Crime|Drama|Thriller</td>\n",
       "      <td>250000000</td>\n",
       "      <td>1084939099</td>\n",
       "      <td>834939099</td>\n",
       "      <td>2012</td>\n",
       "    </tr>\n",
       "    <tr>\n",
       "      <th>4</th>\n",
       "      <td>49529</td>\n",
       "      <td>John Carter</td>\n",
       "      <td>Action|Adventure|Science Fiction</td>\n",
       "      <td>260000000</td>\n",
       "      <td>284139100</td>\n",
       "      <td>24139100</td>\n",
       "      <td>2012</td>\n",
       "    </tr>\n",
       "  </tbody>\n",
       "</table>\n",
       "</div>"
      ],
      "text/plain": [
       "       id                                     title  \\\n",
       "0   19995                                    Avatar   \n",
       "1     285  Pirates of the Caribbean: At World's End   \n",
       "2  206647                                   Spectre   \n",
       "3   49026                     The Dark Knight Rises   \n",
       "4   49529                               John Carter   \n",
       "\n",
       "                                     genres     budget     revenue  \\\n",
       "0  Action|Adventure|Fantasy|Science Fiction  237000000  2787965087   \n",
       "1                  Action|Adventure|Fantasy  300000000   961000000   \n",
       "2                    Action|Adventure|Crime  245000000   880674609   \n",
       "3               Action|Crime|Drama|Thriller  250000000  1084939099   \n",
       "4          Action|Adventure|Science Fiction  260000000   284139100   \n",
       "\n",
       "       profit  year  \n",
       "0  2550965087  2009  \n",
       "1   661000000  2007  \n",
       "2   635674609  2015  \n",
       "3   834939099  2012  \n",
       "4    24139100  2012  "
      ]
     },
     "execution_count": 16,
     "metadata": {},
     "output_type": "execute_result"
    }
   ],
   "source": [
    "data.head()"
   ]
  },
  {
   "cell_type": "code",
   "execution_count": 17,
   "metadata": {},
   "outputs": [
    {
     "name": "stdout",
     "output_type": "stream",
     "text": [
      "<class 'pandas.core.frame.DataFrame'>\n",
      "Int64Index: 3229 entries, 0 to 4798\n",
      "Data columns (total 7 columns):\n",
      "id         3229 non-null int64\n",
      "title      3229 non-null object\n",
      "genres     3229 non-null object\n",
      "budget     3229 non-null int64\n",
      "revenue    3229 non-null int64\n",
      "profit     3229 non-null int64\n",
      "year       3229 non-null int64\n",
      "dtypes: int64(5), object(2)\n",
      "memory usage: 201.8+ KB\n"
     ]
    }
   ],
   "source": [
    "data.info()"
   ]
  },
  {
   "cell_type": "markdown",
   "metadata": {},
   "source": [
    "#### 2. Разбиение по жанрам"
   ]
  },
  {
   "cell_type": "code",
   "execution_count": 18,
   "metadata": {},
   "outputs": [
    {
     "data": {
      "text/plain": [
       "True"
      ]
     },
     "execution_count": 18,
     "metadata": {},
     "output_type": "execute_result"
    }
   ],
   "source": [
    "(data['genres'] == '').any()"
   ]
  },
  {
   "cell_type": "markdown",
   "metadata": {},
   "source": [
    "Видим, что есть фильмы без жанра, убираем их."
   ]
  },
  {
   "cell_type": "code",
   "execution_count": 20,
   "metadata": {},
   "outputs": [],
   "source": [
    "data = data[data['genres'] != '']"
   ]
  },
  {
   "cell_type": "markdown",
   "metadata": {},
   "source": [
    "Найдем множество жанров встречающихся в данных"
   ]
  },
  {
   "cell_type": "code",
   "execution_count": 21,
   "metadata": {},
   "outputs": [],
   "source": [
    "genres = data['genres']"
   ]
  },
  {
   "cell_type": "code",
   "execution_count": 22,
   "metadata": {},
   "outputs": [],
   "source": [
    "genres_set = set()\n",
    "for genre_str in genres:\n",
    "    for genre in genre_str.split('|'):\n",
    "        genres_set.add(genre)"
   ]
  },
  {
   "cell_type": "code",
   "execution_count": 23,
   "metadata": {},
   "outputs": [
    {
     "data": {
      "text/plain": [
       "{'Action',\n",
       " 'Adventure',\n",
       " 'Animation',\n",
       " 'Comedy',\n",
       " 'Crime',\n",
       " 'Documentary',\n",
       " 'Drama',\n",
       " 'Family',\n",
       " 'Fantasy',\n",
       " 'Foreign',\n",
       " 'History',\n",
       " 'Horror',\n",
       " 'Music',\n",
       " 'Mystery',\n",
       " 'Romance',\n",
       " 'Science Fiction',\n",
       " 'Thriller',\n",
       " 'War',\n",
       " 'Western'}"
      ]
     },
     "execution_count": 23,
     "metadata": {},
     "output_type": "execute_result"
    }
   ],
   "source": [
    "genres_set"
   ]
  },
  {
   "cell_type": "markdown",
   "metadata": {},
   "source": [
    "Создадим дополнительные столбцы принадлежности к жанру."
   ]
  },
  {
   "cell_type": "code",
   "execution_count": 30,
   "metadata": {},
   "outputs": [],
   "source": [
    "for genre in genres_set:\n",
    "    data[genre] = data['genres'].str.contains(genre)"
   ]
  },
  {
   "cell_type": "markdown",
   "metadata": {},
   "source": [
    "Посмотрим на количество выпускаемых фильмов по годам"
   ]
  },
  {
   "cell_type": "code",
   "execution_count": 49,
   "metadata": {},
   "outputs": [
    {
     "data": {
      "image/png": "[encoded data removed]",
      "text/plain": [
       "<Figure size 432x288 with 1 Axes>"
      ]
     },
     "metadata": {
      "needs_background": "light"
     },
     "output_type": "display_data"
    }
   ],
   "source": [
    "data.loc[:, ['profit', 'year']].groupby(by='year').count().rename(columns={'profit': 'films'}).plot();"
   ]
  },
  {
   "cell_type": "markdown",
   "metadata": {},
   "source": [
    "Для дальнейшего анализа возьмем только те фильмы, которые были выпущены после 2000 года и до 2016. Т.к. до этого времени фильмов слишком мало. А в 2016 похоже учтены не все фильмы."
   ]
  },
  {
   "cell_type": "code",
   "execution_count": 63,
   "metadata": {},
   "outputs": [
    {
     "data": {
      "image/png": "[encoded data removed]",
      "text/plain": [
       "<Figure size 432x288 with 1 Axes>"
      ]
     },
     "metadata": {
      "needs_background": "light"
     },
     "output_type": "display_data"
    }
   ],
   "source": [
    "data.loc[:, ['profit', 'year']].groupby(by='year').count().rename(columns={'profit': 'films'}).loc[2000:2015].plot();"
   ]
  },
  {
   "cell_type": "code",
   "execution_count": 67,
   "metadata": {},
   "outputs": [],
   "source": [
    "data = data[data['year'].between(left=2000, right=2015)]"
   ]
  },
  {
   "cell_type": "markdown",
   "metadata": {},
   "source": [
    "#### 3. Построение графиков и анализ данных"
   ]
  },
  {
   "cell_type": "markdown",
   "metadata": {},
   "source": [
    "Посчитаем общий доход по годам по всем жанрам:"
   ]
  },
  {
   "cell_type": "code",
   "execution_count": 78,
   "metadata": {},
   "outputs": [],
   "source": [
    "profit_sum = data.loc[:, ['profit', 'year']].groupby(by='year').sum()"
   ]
  },
  {
   "cell_type": "code",
   "execution_count": 79,
   "metadata": {},
   "outputs": [
    {
     "data": {
      "image/png": "[encoded data removed]",
      "text/plain": [
       "<Figure size 432x288 with 1 Axes>"
      ]
     },
     "metadata": {
      "needs_background": "light"
     },
     "output_type": "display_data"
    }
   ],
   "source": [
    "profit_sum.plot();"
   ]
  },
  {
   "cell_type": "markdown",
   "metadata": {},
   "source": [
    "Посчитаем доход в жанре Action"
   ]
  },
  {
   "cell_type": "code",
   "execution_count": 80,
   "metadata": {},
   "outputs": [],
   "source": [
    "action_sum = data.loc[data['Action'], ['profit', 'year']].groupby(by='year').sum()"
   ]
  },
  {
   "cell_type": "code",
   "execution_count": 81,
   "metadata": {},
   "outputs": [
    {
     "data": {
      "image/png": "[encoded data removed]",
      "text/plain": [
       "<Figure size 432x288 with 1 Axes>"
      ]
     },
     "metadata": {
      "needs_background": "light"
     },
     "output_type": "display_data"
    }
   ],
   "source": [
    "action_sum.plot();"
   ]
  },
  {
   "cell_type": "markdown",
   "metadata": {},
   "source": [
    "Посчитаем отношение дохода в жанре Action к общему доходу"
   ]
  },
  {
   "cell_type": "code",
   "execution_count": 82,
   "metadata": {},
   "outputs": [],
   "source": [
    "action_perc = action_sum / profit_sum"
   ]
  },
  {
   "cell_type": "code",
   "execution_count": 88,
   "metadata": {},
   "outputs": [
    {
     "data": {
      "image/png": "[encoded data removed]",
      "text/plain": [
       "<Figure size 432x288 with 1 Axes>"
      ]
     },
     "metadata": {
      "needs_background": "light"
     },
     "output_type": "display_data"
    }
   ],
   "source": [
    "action_perc.plot(kind='bar', ylim=(0,1));"
   ]
  },
  {
   "cell_type": "markdown",
   "metadata": {},
   "source": [
    "Построим графики для всех жанров"
   ]
  },
  {
   "cell_type": "code",
   "execution_count": 89,
   "metadata": {},
   "outputs": [],
   "source": [
    "import matplotlib.pyplot as plt"
   ]
  },
  {
   "cell_type": "code",
   "execution_count": 91,
   "metadata": {
    "scrolled": false
   },
   "outputs": [
    {
     "data": {
      "image/png": "[encoded data removed]",
      "text/plain": [
       "<Figure size 432x288 with 1 Axes>"
      ]
     },
     "metadata": {
      "needs_background": "light"
     },
     "output_type": "display_data"
    },
    {
     "data": {
      "image/png": "[encoded data removed]",
      "text/plain": [
       "<Figure size 432x288 with 1 Axes>"
      ]
     },
     "metadata": {
      "needs_background": "light"
     },
     "output_type": "display_data"
    },
    {
     "data": {
      "image/png": "[encoded data removed]",
      "text/plain": [
       "<Figure size 432x288 with 1 Axes>"
      ]
     },
     "metadata": {
      "needs_background": "light"
     },
     "output_type": "display_data"
    },
    {
     "data": {
      "image/png": "[encoded data removed]",
      "text/plain": [
       "<Figure size 432x288 with 1 Axes>"
      ]
     },
     "metadata": {
      "needs_background": "light"
     },
     "output_type": "display_data"
    },
    {
     "data": {
      "image/png": "[encoded data removed]",
      "text/plain": [
       "<Figure size 432x288 with 1 Axes>"
      ]
     },
     "metadata": {
      "needs_background": "light"
     },
     "output_type": "display_data"
    },
    {
     "data": {
      "image/png": "[encoded data removed]",
      "text/plain": [
       "<Figure size 432x288 with 1 Axes>"
      ]
     },
     "metadata": {
      "needs_background": "light"
     },
     "output_type": "display_data"
    },
    {
     "data": {
      "image/png": "[encoded data removed]",
      "text/plain": [
       "<Figure size 432x288 with 1 Axes>"
      ]
     },
     "metadata": {
      "needs_background": "light"
     },
     "output_type": "display_data"
    },
    {
     "data": {
      "image/png": "[encoded data removed]",
      "text/plain": [
       "<Figure size 432x288 with 1 Axes>"
      ]
     },
     "metadata": {
      "needs_background": "light"
     },
     "output_type": "display_data"
    },
    {
     "data": {
      "image/png": "[encoded data removed]",
      "text/plain": [
       "<Figure size 432x288 with 1 Axes>"
      ]
     },
     "metadata": {
      "needs_background": "light"
     },
     "output_type": "display_data"
    },
    {
     "data": {
      "image/png": "[encoded data removed]",
      "text/plain": [
       "<Figure size 432x288 with 1 Axes>"
      ]
     },
     "metadata": {
      "needs_background": "light"
     },
     "output_type": "display_data"
    },
    {
     "data": {
      "image/png": "[encoded data removed]",
      "text/plain": [
       "<Figure size 432x288 with 1 Axes>"
      ]
     },
     "metadata": {
      "needs_background": "light"
     },
     "output_type": "display_data"
    },
    {
     "data": {
      "image/png": "[encoded data removed]",
      "text/plain": [
       "<Figure size 432x288 with 1 Axes>"
      ]
     },
     "metadata": {
      "needs_background": "light"
     },
     "output_type": "display_data"
    },
    {
     "data": {
      "image/png": "[encoded data removed]",
      "text/plain": [
       "<Figure size 432x288 with 1 Axes>"
      ]
     },
     "metadata": {
      "needs_background": "light"
     },
     "output_type": "display_data"
    },
    {
     "data": {
      "image/png": "[encoded data removed]",
      "text/plain": [
       "<Figure size 432x288 with 1 Axes>"
      ]
     },
     "metadata": {
      "needs_background": "light"
     },
     "output_type": "display_data"
    },
    {
     "data": {
      "image/png": "[encoded data removed]",
      "text/plain": [
       "<Figure size 432x288 with 1 Axes>"
      ]
     },
     "metadata": {
      "needs_background": "light"
     },
     "output_type": "display_data"
    },
    {
     "data": {
      "image/png": "[encoded data removed]",
      "text/plain": [
       "<Figure size 432x288 with 1 Axes>"
      ]
     },
     "metadata": {
      "needs_background": "light"
     },
     "output_type": "display_data"
    },
    {
     "data": {
      "image/png": "[encoded data removed]",
      "text/plain": [
       "<Figure size 432x288 with 1 Axes>"
      ]
     },
     "metadata": {
      "needs_background": "light"
     },
     "output_type": "display_data"
    },
    {
     "data": {
      "image/png": "[encoded data removed]",
      "text/plain": [
       "<Figure size 432x288 with 1 Axes>"
      ]
     },
     "metadata": {
      "needs_background": "light"
     },
     "output_type": "display_data"
    },
    {
     "data": {
      "image/png": "[encoded data removed]",
      "text/plain": [
       "<Figure size 432x288 with 1 Axes>"
      ]
     },
     "metadata": {
      "needs_background": "light"
     },
     "output_type": "display_data"
    }
   ],
   "source": [
    "for genre in genres_set:\n",
    "    genre_sum = data.loc[data[genre], ['profit', 'year']].groupby(by='year').sum()\n",
    "    genre_perc = genre_sum / profit_sum\n",
    "    genre_perc.plot(kind='bar', ylim=(0,1))\n",
    "    plt.title(genre)\n",
    "    plt.show();"
   ]
  },
  {
   "cell_type": "markdown",
   "metadata": {},
   "source": [
    "Визуально выделем более-менее значимые жанры для дальнейшего построения моделей:\n",
    "\n",
    "``Thriller``\n",
    "``Adventure``\n",
    "``Science Fiction``\n",
    "``Drama``\n",
    "``Comedy``\n",
    "``Action``\n",
    "``Animation``\n",
    "``Family``\n",
    "``Fantasy``\n",
    "``Romance``\n",
    "``Crime``\n",
    "``Horror``\n",
    "\n"
   ]
  },
  {
   "cell_type": "code",
   "execution_count": 111,
   "metadata": {},
   "outputs": [],
   "source": [
    "genres_list = ['Thriller', 'Adventure', 'Science Fiction', 'Drama', 'Comedy',\n",
    "               'Action', 'Animation', 'Family', 'Fantasy', 'Romance', 'Crime', 'Horror']"
   ]
  },
  {
   "cell_type": "markdown",
   "metadata": {},
   "source": [
    "#### 4. Построение модели линейной регрессии"
   ]
  },
  {
   "cell_type": "markdown",
   "metadata": {},
   "source": [
    "Построим модель линейной регрессии для жанра Adventure"
   ]
  },
  {
   "cell_type": "code",
   "execution_count": 94,
   "metadata": {},
   "outputs": [],
   "source": [
    "import numpy as np"
   ]
  },
  {
   "cell_type": "code",
   "execution_count": 100,
   "metadata": {},
   "outputs": [],
   "source": [
    "def get_genre_data(genre):\n",
    "    ''' Возвращает DataFrame по жанру genre с долей дохода в общегодовом доходе\n",
    "    '''\n",
    "    genre_sum = data.loc[data[genre], ['profit', 'year']].groupby(by='year').sum()\n",
    "    genre_perc = genre_sum / profit_sum\n",
    "    return genre_perc"
   ]
  },
  {
   "cell_type": "code",
   "execution_count": 138,
   "metadata": {},
   "outputs": [
    {
     "data": {
      "text/plain": [
       "'Adventure'"
      ]
     },
     "execution_count": 138,
     "metadata": {},
     "output_type": "execute_result"
    }
   ],
   "source": [
    "genre = genres_list[1]\n",
    "genre"
   ]
  },
  {
   "cell_type": "code",
   "execution_count": 139,
   "metadata": {},
   "outputs": [],
   "source": [
    "df = get_genre_data(genre)"
   ]
  },
  {
   "cell_type": "code",
   "execution_count": 140,
   "metadata": {},
   "outputs": [],
   "source": [
    "x = np.array(df.index - 2000)  # для того, чтобы x начинался с нуля\n",
    "y = np.array(df.values)"
   ]
  },
  {
   "cell_type": "markdown",
   "metadata": {},
   "source": [
    "Воспользуемся формулами для нахождения коэфициентов парной регрессии"
   ]
  },
  {
   "cell_type": "code",
   "execution_count": 141,
   "metadata": {},
   "outputs": [
    {
     "data": {
      "text/plain": [
       "(0.0, 0.4415526520931443)"
      ]
     },
     "execution_count": 141,
     "metadata": {},
     "output_type": "execute_result"
    }
   ],
   "source": [
    "b1 = (np.mean(y * x) - np.mean(y) * np.mean(x)) / (np.mean(x ** 2) - np.mean(x) ** 2)\n",
    "b0 = np.mean(y) - b1 * np.mean(x)\n",
    "\n",
    "b1, b0"
   ]
  },
  {
   "cell_type": "markdown",
   "metadata": {},
   "source": [
    "Как видим, наше уравнение не зависит от $x$, т.к. коэф. $b_1$ практически равен 0 и имеет вид:\n",
    "$$y = 0.442$$"
   ]
  },
  {
   "cell_type": "markdown",
   "metadata": {},
   "source": [
    "Найдем коэфициенты парной регресси для всех жанров"
   ]
  },
  {
   "cell_type": "code",
   "execution_count": 109,
   "metadata": {},
   "outputs": [],
   "source": [
    "def get_b0_b1(x, y):\n",
    "    b1 = (np.mean(y * x) - np.mean(y) * np.mean(x)) / (np.mean(x ** 2) - np.mean(x) ** 2)\n",
    "    b0 = np.mean(y) - b1 * np.mean(x)\n",
    "    return (b0, b1)"
   ]
  },
  {
   "cell_type": "code",
   "execution_count": 137,
   "metadata": {},
   "outputs": [
    {
     "name": "stdout",
     "output_type": "stream",
     "text": [
      "Коэф. парной регрессии для жанра Thriller:\n",
      "b0 = 0.239,\tb1=0.0\n",
      "\n",
      "Коэф. парной регрессии для жанра Adventure:\n",
      "b0 = 0.442,\tb1=0.0\n",
      "\n",
      "Коэф. парной регрессии для жанра Science Fiction:\n",
      "b0 = 0.189,\tb1=0.0\n",
      "\n",
      "Коэф. парной регрессии для жанра Drama:\n",
      "b0 = 0.268,\tb1=0.0\n",
      "\n",
      "Коэф. парной регрессии для жанра Comedy:\n",
      "b0 = 0.323,\tb1=0.0\n",
      "\n",
      "Коэф. парной регрессии для жанра Action:\n",
      "b0 = 0.4,\tb1=0.0\n",
      "\n",
      "Коэф. парной регрессии для жанра Animation:\n",
      "b0 = 0.161,\tb1=-0.0\n",
      "\n",
      "Коэф. парной регрессии для жанра Family:\n",
      "b0 = 0.245,\tb1=0.0\n",
      "\n",
      "Коэф. парной регрессии для жанра Fantasy:\n",
      "b0 = 0.242,\tb1=0.0\n",
      "\n",
      "Коэф. парной регрессии для жанра Romance:\n",
      "b0 = 0.134,\tb1=0.0\n",
      "\n",
      "Коэф. парной регрессии для жанра Crime:\n",
      "b0 = 0.101,\tb1=-0.0\n",
      "\n",
      "Коэф. парной регрессии для жанра Horror:\n",
      "b0 = 0.054,\tb1=0.0\n",
      "\n"
     ]
    }
   ],
   "source": [
    "for genre in genres_list:\n",
    "    df = get_genre_data(genre)\n",
    "    x = np.array(df.index - 2000)\n",
    "    y = np.array(df.values)\n",
    "    b0, b1 = get_b0_b1(x, y)\n",
    "    print(f'Коэф. парной регрессии для жанра {genre}:\\nb0 = {np.round(b0, 3)},\\tb1={np.round(b1, 3)}\\n')"
   ]
  },
  {
   "cell_type": "markdown",
   "metadata": {},
   "source": [
    "Наблюдаем аналогичную картину. Проверим уровень значимости уровнения регрессии для жанра Adventure"
   ]
  },
  {
   "cell_type": "code",
   "execution_count": 142,
   "metadata": {},
   "outputs": [
    {
     "data": {
      "text/plain": [
       "'Adventure'"
      ]
     },
     "execution_count": 142,
     "metadata": {},
     "output_type": "execute_result"
    }
   ],
   "source": [
    "genre = genres_list[1]\n",
    "genre"
   ]
  },
  {
   "cell_type": "code",
   "execution_count": 143,
   "metadata": {},
   "outputs": [],
   "source": [
    "df = get_genre_data(genre)\n",
    "x = np.array(df.index - 2000)\n",
    "y = np.array(df.values)\n",
    "b0, b1 = get_b0_b1(x, y)"
   ]
  },
  {
   "cell_type": "code",
   "execution_count": 144,
   "metadata": {},
   "outputs": [],
   "source": [
    "z = b0 + b1 * x"
   ]
  },
  {
   "cell_type": "markdown",
   "metadata": {},
   "source": [
    "Найдем коэффициент детерминации:"
   ]
  },
  {
   "cell_type": "code",
   "execution_count": 145,
   "metadata": {},
   "outputs": [
    {
     "data": {
      "text/plain": [
       "0.0"
      ]
     },
     "execution_count": 145,
     "metadata": {},
     "output_type": "execute_result"
    }
   ],
   "source": [
    "R1 = z.var() / y.var()\n",
    "R1"
   ]
  },
  {
   "cell_type": "markdown",
   "metadata": {},
   "source": [
    "Коэффициент детерминации равен нулю - вариация y не зависит от вариации x."
   ]
  },
  {
   "cell_type": "markdown",
   "metadata": {},
   "source": [
    "Найдем среднюю ошибку апроксимации:"
   ]
  },
  {
   "cell_type": "code",
   "execution_count": 146,
   "metadata": {},
   "outputs": [],
   "source": [
    "def mean_approximation_error(y_real, y_pred):\n",
    "    return np.abs((y_real - y_pred) / y_real).mean()"
   ]
  },
  {
   "cell_type": "code",
   "execution_count": 147,
   "metadata": {},
   "outputs": [
    {
     "data": {
      "text/plain": [
       "0.11426583155154424"
      ]
     },
     "execution_count": 147,
     "metadata": {},
     "output_type": "execute_result"
    }
   ],
   "source": [
    "mean_approximation_error(y, z)"
   ]
  },
  {
   "cell_type": "markdown",
   "metadata": {},
   "source": [
    "Средняя ошибка апроксимации превышает 10%, и нельзя утверждать, что теоретические значения близки к тем, которые выдает модель линейной регрессии."
   ]
  },
  {
   "cell_type": "markdown",
   "metadata": {},
   "source": [
    "Проведем оценку с помощью F-критерия Фишера."
   ]
  },
  {
   "cell_type": "code",
   "execution_count": 149,
   "metadata": {},
   "outputs": [
    {
     "data": {
      "text/plain": [
       "0.0"
      ]
     },
     "execution_count": 149,
     "metadata": {},
     "output_type": "execute_result"
    }
   ],
   "source": [
    "k = 1\n",
    "n = y.size\n",
    "\n",
    "\n",
    "T1 = (R1 / (1 - R1)) * (n - k - 1 / k)\n",
    "T1"
   ]
  },
  {
   "cell_type": "code",
   "execution_count": 150,
   "metadata": {},
   "outputs": [],
   "source": [
    "from scipy import stats"
   ]
  },
  {
   "cell_type": "code",
   "execution_count": 151,
   "metadata": {},
   "outputs": [
    {
     "data": {
      "text/plain": [
       "4.600109936669421"
      ]
     },
     "execution_count": 151,
     "metadata": {},
     "output_type": "execute_result"
    }
   ],
   "source": [
    "alpha = 0.05\n",
    "\n",
    "F_crit = stats.f.ppf(1 - alpha, k, n - k - 1)\n",
    "F_crit"
   ]
  },
  {
   "cell_type": "markdown",
   "metadata": {},
   "source": [
    "Получили $T<F_{crit}$ поэтому уравнение регрессии статистически __не__ значимо."
   ]
  },
  {
   "cell_type": "markdown",
   "metadata": {},
   "source": [
    "Проведем такую оценку для всех остальных жанров"
   ]
  },
  {
   "cell_type": "code",
   "execution_count": 153,
   "metadata": {},
   "outputs": [
    {
     "name": "stdout",
     "output_type": "stream",
     "text": [
      "Коэф. парной регрессии для жанра Thriller:\n",
      "b0 = 0.239,\tb1=0.0\n",
      "Коэф. детерминации = 0.0\n",
      "Средняя ошибка апроксимации = 0.174\n",
      "T = 0.0,\tF_crit=4.6\n",
      "\n",
      "Коэф. парной регрессии для жанра Adventure:\n",
      "b0 = 0.442,\tb1=0.0\n",
      "Коэф. детерминации = 0.0\n",
      "Средняя ошибка апроксимации = 0.114\n",
      "T = 0.0,\tF_crit=4.6\n",
      "\n",
      "Коэф. парной регрессии для жанра Science Fiction:\n",
      "b0 = 0.189,\tb1=0.0\n",
      "Коэф. детерминации = 0.0\n",
      "Средняя ошибка апроксимации = 0.653\n",
      "T = 0.0,\tF_crit=4.6\n",
      "\n",
      "Коэф. парной регрессии для жанра Drama:\n",
      "b0 = 0.268,\tb1=0.0\n",
      "Коэф. детерминации = 0.0\n",
      "Средняя ошибка апроксимации = 0.238\n",
      "T = 0.0,\tF_crit=4.6\n",
      "\n",
      "Коэф. парной регрессии для жанра Comedy:\n",
      "b0 = 0.323,\tb1=0.0\n",
      "Коэф. детерминации = 0.0\n",
      "Средняя ошибка апроксимации = 0.102\n",
      "T = 0.0,\tF_crit=4.6\n",
      "\n",
      "Коэф. парной регрессии для жанра Action:\n",
      "b0 = 0.4,\tb1=0.0\n",
      "Коэф. детерминации = 0.0\n",
      "Средняя ошибка апроксимации = 0.199\n",
      "T = 0.0,\tF_crit=4.6\n",
      "\n",
      "Коэф. парной регрессии для жанра Animation:\n",
      "b0 = 0.161,\tb1=-0.0\n",
      "Коэф. детерминации = 0.0\n",
      "Средняя ошибка апроксимации = 0.384\n",
      "T = 0.0,\tF_crit=4.6\n",
      "\n",
      "Коэф. парной регрессии для жанра Family:\n",
      "b0 = 0.245,\tb1=0.0\n",
      "Коэф. детерминации = 0.0\n",
      "Средняя ошибка апроксимации = 0.282\n",
      "T = 0.0,\tF_crit=4.6\n",
      "\n",
      "Коэф. парной регрессии для жанра Fantasy:\n",
      "b0 = 0.242,\tb1=0.0\n",
      "Коэф. детерминации = 0.0\n",
      "Средняя ошибка апроксимации = 0.562\n",
      "T = 0.0,\tF_crit=4.6\n",
      "\n",
      "Коэф. парной регрессии для жанра Romance:\n",
      "b0 = 0.134,\tb1=0.0\n",
      "Коэф. детерминации = 0.0\n",
      "Средняя ошибка апроксимации = 0.422\n",
      "T = 0.0,\tF_crit=4.6\n",
      "\n",
      "Коэф. парной регрессии для жанра Crime:\n",
      "b0 = 0.101,\tb1=-0.0\n",
      "Коэф. детерминации = 0.0\n",
      "Средняя ошибка апроксимации = 0.436\n",
      "T = 0.0,\tF_crit=4.6\n",
      "\n",
      "Коэф. парной регрессии для жанра Horror:\n",
      "b0 = 0.054,\tb1=0.0\n",
      "Коэф. детерминации = 0.0\n",
      "Средняя ошибка апроксимации = 0.658\n",
      "T = 0.0,\tF_crit=4.6\n",
      "\n"
     ]
    }
   ],
   "source": [
    "alpha = 0.05\n",
    "k = 1\n",
    "n = y.size\n",
    "\n",
    "for genre in genres_list:\n",
    "    df = get_genre_data(genre)\n",
    "    x = np.array(df.index - 2000)\n",
    "    y = np.array(df.values)\n",
    "    b0, b1 = get_b0_b1(x, y)\n",
    "    z = b0 + b1 * x\n",
    "    R = z.var() / y.var()\n",
    "    mae = mean_approximation_error(y, z)\n",
    "    T = (R1 / (1 - R1)) * (n - k - 1 / k)\n",
    "    F_crit = stats.f.ppf(1 - alpha, k, n - k - 1)\n",
    "    print(f'Коэф. парной регрессии для жанра {genre}:\\nb0 = {np.round(b0, 3)},\\tb1={np.round(b1, 3)}\\n'\n",
    "          f'Коэф. детерминации = {np.round(R, 3)}\\n'\n",
    "          f'Средняя ошибка апроксимации = {np.round(mae, 3)}\\n'\n",
    "          f'T = {np.round(T, 3)},\\tF_crit={np.round(F_crit, 3)}\\n')"
   ]
  },
  {
   "cell_type": "markdown",
   "metadata": {},
   "source": [
    "#### 5. Предсказание для каждого класса жанров"
   ]
  },
  {
   "cell_type": "markdown",
   "metadata": {},
   "source": [
    "В виду того, что линейная регрессия не является значимой моделью и практически никак не описывает данные, то делать предсказания по ней нет смысла."
   ]
  },
  {
   "cell_type": "markdown",
   "metadata": {},
   "source": [
    "### Выводы"
   ]
  },
  {
   "cell_type": "markdown",
   "metadata": {},
   "source": [
    "1. Линейная модель не подходит для описания данных\n",
    "2. С 2000 года доля дохода по жанрам существенно не меняется\n",
    "3. Самыми прибыльными жанрами являются: Adventure, Action. Их доля превышает 40%."
   ]
  },
  {
   "cell_type": "markdown",
   "metadata": {},
   "source": [
    "Для иллюстрации посмотрим на фильмы снятые в 2015-2016 годах в жанрах Adventure и Action:"
   ]
  },
  {
   "cell_type": "code",
   "execution_count": 162,
   "metadata": {},
   "outputs": [
    {
     "data": {
      "text/html": [
       "<div>\n",
       "<style scoped>\n",
       "    .dataframe tbody tr th:only-of-type {\n",
       "        vertical-align: middle;\n",
       "    }\n",
       "\n",
       "    .dataframe tbody tr th {\n",
       "        vertical-align: top;\n",
       "    }\n",
       "\n",
       "    .dataframe thead th {\n",
       "        text-align: right;\n",
       "    }\n",
       "</style>\n",
       "<table border=\"1\" class=\"dataframe\">\n",
       "  <thead>\n",
       "    <tr style=\"text-align: right;\">\n",
       "      <th></th>\n",
       "      <th>title</th>\n",
       "      <th>profit</th>\n",
       "    </tr>\n",
       "  </thead>\n",
       "  <tbody>\n",
       "    <tr>\n",
       "      <th>28</th>\n",
       "      <td>Jurassic World</td>\n",
       "      <td>1363528810</td>\n",
       "    </tr>\n",
       "    <tr>\n",
       "      <th>7</th>\n",
       "      <td>Avengers: Age of Ultron</td>\n",
       "      <td>1125403694</td>\n",
       "    </tr>\n",
       "    <tr>\n",
       "      <th>2</th>\n",
       "      <td>Spectre</td>\n",
       "      <td>635674609</td>\n",
       "    </tr>\n",
       "    <tr>\n",
       "      <th>134</th>\n",
       "      <td>Mission: Impossible - Rogue Nation</td>\n",
       "      <td>532330139</td>\n",
       "    </tr>\n",
       "    <tr>\n",
       "      <th>102</th>\n",
       "      <td>The Hunger Games: Mockingjay - Part 2</td>\n",
       "      <td>493428261</td>\n",
       "    </tr>\n",
       "    <tr>\n",
       "      <th>182</th>\n",
       "      <td>Ant-Man</td>\n",
       "      <td>389311965</td>\n",
       "    </tr>\n",
       "    <tr>\n",
       "      <th>108</th>\n",
       "      <td>Terminator Genisys</td>\n",
       "      <td>285603537</td>\n",
       "    </tr>\n",
       "    <tr>\n",
       "      <th>127</th>\n",
       "      <td>Mad Max: Fury Road</td>\n",
       "      <td>228858340</td>\n",
       "    </tr>\n",
       "    <tr>\n",
       "      <th>1290</th>\n",
       "      <td>Baahubali: The Beginning</td>\n",
       "      <td>60000000</td>\n",
       "    </tr>\n",
       "    <tr>\n",
       "      <th>486</th>\n",
       "      <td>The Last Witch Hunter</td>\n",
       "      <td>56936910</td>\n",
       "    </tr>\n",
       "    <tr>\n",
       "      <th>678</th>\n",
       "      <td>Dragon Blade</td>\n",
       "      <td>56545703</td>\n",
       "    </tr>\n",
       "    <tr>\n",
       "      <th>242</th>\n",
       "      <td>Fantastic Four</td>\n",
       "      <td>47977596</td>\n",
       "    </tr>\n",
       "    <tr>\n",
       "      <th>531</th>\n",
       "      <td>The Man from U.N.C.L.E.</td>\n",
       "      <td>33145109</td>\n",
       "    </tr>\n",
       "    <tr>\n",
       "      <th>61</th>\n",
       "      <td>Jupiter Ascending</td>\n",
       "      <td>7987720</td>\n",
       "    </tr>\n",
       "    <tr>\n",
       "      <th>310</th>\n",
       "      <td>In the Heart of the Sea</td>\n",
       "      <td>-6179242</td>\n",
       "    </tr>\n",
       "  </tbody>\n",
       "</table>\n",
       "</div>"
      ],
      "text/plain": [
       "                                      title      profit\n",
       "28                           Jurassic World  1363528810\n",
       "7                   Avengers: Age of Ultron  1125403694\n",
       "2                                   Spectre   635674609\n",
       "134      Mission: Impossible - Rogue Nation   532330139\n",
       "102   The Hunger Games: Mockingjay - Part 2   493428261\n",
       "182                                 Ant-Man   389311965\n",
       "108                      Terminator Genisys   285603537\n",
       "127                      Mad Max: Fury Road   228858340\n",
       "1290               Baahubali: The Beginning    60000000\n",
       "486                   The Last Witch Hunter    56936910\n",
       "678                            Dragon Blade    56545703\n",
       "242                          Fantastic Four    47977596\n",
       "531                 The Man from U.N.C.L.E.    33145109\n",
       "61                        Jupiter Ascending     7987720\n",
       "310                 In the Heart of the Sea    -6179242"
      ]
     },
     "execution_count": 162,
     "metadata": {},
     "output_type": "execute_result"
    }
   ],
   "source": [
    "data[(data['Adventure']) & (data['Action']) & (data['year'].between(left=2015, right=2016))]\\\n",
    "                                                           .loc[:, ['title', 'profit']]\\\n",
    "                                                           .sort_values(by='profit', ascending=False)"
   ]
  },
  {
   "cell_type": "markdown",
   "metadata": {},
   "source": [
    "Как видим, только один фильм оказался убыточным."
   ]
  }
 ],
 "metadata": {
  "kernelspec": {
   "display_name": "Python 3",
   "language": "python",
   "name": "python3"
  },
  "language_info": {
   "codemirror_mode": {
    "name": "ipython",
    "version": 3
   },
   "file_extension": ".py",
   "mimetype": "text/x-python",
   "name": "python",
   "nbconvert_exporter": "python",
   "pygments_lexer": "ipython3",
   "version": "3.6.8"
  }
 },
 "nbformat": 4,
 "nbformat_minor": 2
}
