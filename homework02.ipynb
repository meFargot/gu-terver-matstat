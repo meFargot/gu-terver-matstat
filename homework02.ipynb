{
 "cells": [
  {
   "cell_type": "code",
   "execution_count": 1,
   "metadata": {},
   "outputs": [],
   "source": [
    "import numpy as np"
   ]
  },
  {
   "cell_type": "markdown",
   "metadata": {},
   "source": [
    "### Задача 1\n",
    "\n",
    "Контрольная работа состоит из пяти вопросов. На каждый вопрос приведено четыре варианта ответа, один из которых правильный. Составьте закон распределения числа правильных ответов при простом угадывании. Найдите M(X), D(X)."
   ]
  },
  {
   "cell_type": "markdown",
   "metadata": {},
   "source": [
    "#### Решение"
   ]
  },
  {
   "cell_type": "markdown",
   "metadata": {},
   "source": [
    "Для расчета вероятностей воспользуемся формуллой Бернулли.\n",
    "\n",
    "$P_n(X=k)=C_n^kp^kq^{n-k}$\n",
    "\n",
    "Где $n=5$, $k$ это количество правильных ответов, а $p=\\frac{1}{4}$\n",
    "\n",
    "Сделаем расчет для всех $k$ от 0 до 5."
   ]
  },
  {
   "cell_type": "code",
   "execution_count": 2,
   "metadata": {},
   "outputs": [],
   "source": [
    "from scipy.special import comb as C\n",
    "\n",
    "def bernulli(n, k, p):\n",
    "    return C(n, k) * (p**k) * ((1-p)**(n-k))\n",
    "\n",
    "p = 0.25\n",
    "n = 5\n",
    "\n",
    "P = [0] * 6\n",
    "\n",
    "for k in [0, 1, 2, 3, 4, 5]:\n",
    "    P[k] = round(bernulli(n, k, p), 3)"
   ]
  },
  {
   "cell_type": "markdown",
   "metadata": {},
   "source": [
    "Для расчета $M(X)$ и $D(X)$ воспользуемся формулами математического ожидания и дисперсии для биномиального распределения.\n",
    "\n",
    "$M(X)=np$\n",
    "\n",
    "$D(X)=npq$"
   ]
  },
  {
   "cell_type": "code",
   "execution_count": 3,
   "metadata": {},
   "outputs": [],
   "source": [
    "M = n * p\n",
    "D = n * p * (1 - p)"
   ]
  },
  {
   "cell_type": "markdown",
   "metadata": {},
   "source": [
    "#### Ответ"
   ]
  },
  {
   "cell_type": "code",
   "execution_count": 4,
   "metadata": {},
   "outputs": [
    {
     "name": "stdout",
     "output_type": "stream",
     "text": [
      "[0.237, 0.396, 0.264, 0.088, 0.015, 0.001]\n"
     ]
    }
   ],
   "source": [
    "print(P)"
   ]
  },
  {
   "cell_type": "markdown",
   "metadata": {},
   "source": [
    "Пусть $X$ — количество правильных ответов. Тогда ее закон распределения выглядит так:\n",
    "\n",
    "<table border=\"3\">\n",
    "    <tr>\n",
    "        <th>$x$</th>\n",
    "        <td>0</td>\n",
    "        <td>1</td>\n",
    "        <td>2</td>\n",
    "        <td>3</td>\n",
    "        <td>4</td>\n",
    "        <td>5</td>\n",
    "    </tr>\n",
    "    <tr>\n",
    "        <th>$P(X=x)$</th>\n",
    "        <td>0.237</td>\n",
    "        <td>0.396</td>\n",
    "        <td>0.264</td>\n",
    "        <td>0.088</td>\n",
    "        <td>0.015</td>\n",
    "        <td>0.001</td>\n",
    "    </tr>\n",
    "</table>"
   ]
  },
  {
   "cell_type": "code",
   "execution_count": 5,
   "metadata": {},
   "outputs": [
    {
     "name": "stdout",
     "output_type": "stream",
     "text": [
      "M(X)=1.25, D(X)=0.9375\n"
     ]
    }
   ],
   "source": [
    "print(f'M(X)={M}, D(X)={D}')"
   ]
  },
  {
   "cell_type": "markdown",
   "metadata": {},
   "source": [
    "### Задача 2\n",
    "\n",
    "Вероятность попадания в цель при одном выстреле равна 0.01. Какова вероятность того, что число попаданий при 200 выстрелах будет не менее 5 и не более 10?"
   ]
  },
  {
   "cell_type": "markdown",
   "metadata": {},
   "source": [
    "#### Решение"
   ]
  },
  {
   "cell_type": "markdown",
   "metadata": {},
   "source": [
    "Число попаданий - случайная величина. Ее закон распределения можно получить при помощи формулы Пуассона, т.к. вероятность события низкая,а число событий достаточно велико. Расчитаем значения вероятности, затем найдем сумму вероятностей для $x$ лежащего от 5 до 10 включительно."
   ]
  },
  {
   "cell_type": "code",
   "execution_count": 6,
   "metadata": {},
   "outputs": [],
   "source": [
    "p = 0.01\n",
    "n = 200\n",
    "\n",
    "def puasson(n, m, p):\n",
    "    lambda_ = n * p\n",
    "    return (lambda_**m / np.math.factorial(m)) * np.exp(-lambda_)\n",
    "\n",
    "P_sum_puasson = 0\n",
    "for i in range(5, 11):\n",
    "    P_sum_puasson += puasson(n, i, p)"
   ]
  },
  {
   "cell_type": "markdown",
   "metadata": {},
   "source": [
    "#### Ответ"
   ]
  },
  {
   "cell_type": "code",
   "execution_count": 7,
   "metadata": {},
   "outputs": [
    {
     "name": "stdout",
     "output_type": "stream",
     "text": [
      "Вероятность того, что число попаданий при 200 выстрелах будет не менее 5 и не более 10 равна 0.052644709119342686\n"
     ]
    }
   ],
   "source": [
    "print(f'Вероятность того, что число попаданий при 200 выстрелах будет не менее 5 и не более 10 равна '\n",
    "      f'{P_sum_puasson}')"
   ]
  },
  {
   "cell_type": "markdown",
   "metadata": {},
   "source": [
    "### Задача 3\n",
    "\n",
    "В условиях предыдущей задачи сколько выстрелов нужно сделать чтобы быть уверенным с вероятностью 0.9, что хотя бы 10 раз будет совершено попадание?\n",
    "\n",
    "Подсказка. Как посчитать P(X >= k) для величины X, имеющей распределение Пуассона? Здесь предстоит немножко покодить."
   ]
  },
  {
   "cell_type": "markdown",
   "metadata": {},
   "source": [
    "#### Решение"
   ]
  },
  {
   "cell_type": "markdown",
   "metadata": {},
   "source": [
    "Выразим необходимые формулы"
   ]
  },
  {
   "cell_type": "markdown",
   "metadata": {},
   "source": [
    "$P(X \\geqslant k)=1-P(X<k)=1-\\sum\\limits_{k=0}^{k-1}P(X=k)$\n",
    "\n",
    "$P(X=k)=\\frac{λ^k}{k!}e^{−λ}=\\frac{(np)^k}{k!}e^{−np}$"
   ]
  },
  {
   "cell_type": "markdown",
   "metadata": {},
   "source": [
    "Посчитаем вероятность $P(X \\geqslant k)$ для $k=10$, и для различных $n$ (от 10) пока вероятность не станеть $\\geqslant$ 0.9"
   ]
  },
  {
   "cell_type": "code",
   "execution_count": 8,
   "metadata": {},
   "outputs": [],
   "source": [
    "p = 0.01\n",
    "k = 10\n",
    "n = 10\n",
    "\n",
    "def P_ge(n, k, p):\n",
    "    sum_ = 0\n",
    "    for k_ in range(0, k):  # до k-1+1\n",
    "        sum_ += puasson(n, k_, p)\n",
    "    return 1 - sum_\n",
    "\n",
    "while P_ge(n, k, p) < 0.9:\n",
    "    n += 1"
   ]
  },
  {
   "cell_type": "markdown",
   "metadata": {},
   "source": [
    "#### Ответ"
   ]
  },
  {
   "cell_type": "code",
   "execution_count": 10,
   "metadata": {
    "scrolled": true
   },
   "outputs": [
    {
     "name": "stdout",
     "output_type": "stream",
     "text": [
      "Нужно сделать 1421 выстрелов, чтобы вероятность того что хотя бы 10 выстрелов попадут в цель была не менее 0.9.\n",
      "Вероятность в таком случае равна 0.9001760722984115\n"
     ]
    }
   ],
   "source": [
    "print(f'Нужно сделать {n} выстрелов, чтобы вероятность того что хотя бы {k} выстрелов попадут в цель была не менее 0.9.\\n'\n",
    "      f'Вероятность в таком случае равна {P_ge(n, k, p)}')"
   ]
  }
 ],
 "metadata": {
  "kernelspec": {
   "display_name": "Python 3",
   "language": "python",
   "name": "python3"
  },
  "language_info": {
   "codemirror_mode": {
    "name": "ipython",
    "version": 3
   },
   "file_extension": ".py",
   "mimetype": "text/x-python",
   "name": "python",
   "nbconvert_exporter": "python",
   "pygments_lexer": "ipython3",
   "version": "3.6.8"
  }
 },
 "nbformat": 4,
 "nbformat_minor": 2
}
